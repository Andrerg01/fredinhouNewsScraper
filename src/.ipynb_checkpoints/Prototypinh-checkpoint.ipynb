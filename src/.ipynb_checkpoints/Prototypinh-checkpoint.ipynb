{
 "cells": [
  {
   "cell_type": "markdown",
   "id": "complimentary-binding",
   "metadata": {},
   "source": [
    "# Prototyping news scraper"
   ]
  },
  {
   "cell_type": "markdown",
   "id": "stuck-vegetarian",
   "metadata": {},
   "source": [
    "## Scraping CNN Bussiness"
   ]
  },
  {
   "cell_type": "code",
   "execution_count": 10,
   "id": "structural-notice",
   "metadata": {},
   "outputs": [],
   "source": [
    "from bs4 import BeautifulSoup as soup\n",
    "import requests\n",
    "import datetime\n",
    "\n",
    "today = datetime.date.today()\n",
    "cnn_url = 'https://www.cnn.com/business'"
   ]
  },
  {
   "cell_type": "code",
   "execution_count": 11,
   "id": "educated-beach",
   "metadata": {},
   "outputs": [],
   "source": [
    "html = requests.get(cnn_url)"
   ]
  },
  {
   "cell_type": "code",
   "execution_count": 15,
   "id": "formed-luxembourg",
   "metadata": {},
   "outputs": [],
   "source": [
    "bsobj = soup(html.content)"
   ]
  },
  {
   "cell_type": "code",
   "execution_count": 95,
   "id": "excited-diagram",
   "metadata": {},
   "outputs": [
    {
     "name": "stdout",
     "output_type": "stream",
     "text": [
      "Dogecoin briefly broke Robinhood's crypto trading systems -- /2021/04/16/investing/dogecoin-robinhood-trading-issues/index.html\n",
      "J&J reportedly sought help from rivals after blood clot concerns emerged -- /2021/04/16/business/johnson--johnson-vaccine-pfizer-moderna/index.html\n",
      "GM and LG announce another $2.3 billion EV battery plant -- /2021/04/16/business/gm-lg-battery-plant-tennessee/index.html\n",
      "The stock market is throwing a global party -- /2021/04/16/investing/premarket-stocks-trading/index.html\n",
      "Fyre Festival settlement may award ticketholders more than $7,000 each -- /2021/04/16/business/fyre-festival-settlement/index.html\n",
      "Inflation is coming, the question is when -- /2021/04/16/investing/inflation-economy-bond-yields/index.html\n",
      "Minority-led firms were hit hardest by the pandemic -- /2021/04/16/success/minority-owned-small-businesses-pandemic/index.html\n",
      "Morgan Stanley lost nearly $1 billion on hedge fund meltdown -- https://cnn.it/3mWUPRt\n",
      "Bank of America CEO calls for bipartisan push to study voting laws -- /2021/04/16/investing/brian-moynihan-bank-of-america-voting/index.html\n",
      "Jamie Dimon says 'American dream is fraying' -- /2021/04/15/investing/jamie-dimon-david-axelrod/index.html\n",
      "How to watch Prince Philip's funeral -- /2021/04/16/media/philip-funeral-how-to-watch/index.html\n",
      "Hyundai reveals a new pickup truck, but please don't call it that -- /2021/04/15/success/hyundai-santa-cruz-pickup-truck/index.html\n",
      "Are you leaving your restaurant job for good? Share your story -- /2021/04/16/business/restaurant-worker-callout/index.html\n",
      "Content by LendingTreeMake the switch from a 30 to 15 year mortgage -- https://ck.lendingtree.com/?a=342&c=1556&p=r&s1=moneypromo&mtaid=626CF&ctype=moneypromo&cmethod=15yrpayoff&rcode=10005&ccreative=maketheswitch_none&placement_name=moneypromo&ad_headline=maketheswitch&ad_image=none\n",
      "This $800 million whistleblower program is losing its top cop -- /2021/04/16/investing/wall-street-whistleblower-sec/index.html\n",
      "Mercedes' new electric car has a nap mode  -- /2021/04/15/success/mercedes-eqs-electric-car/index.html\n",
      "Disney park employees have a new dress code -- /2021/04/15/media/disney-parks-diversity-inclusion/index.html\n",
      "A Google Earth feature shows the chilling effect of climate change -- /2021/04/15/tech/google-earth-timelapse/index.html\n",
      "Apple's $200M fund aims to remove carbon emissions -- /2021/04/16/tech/apple-lisa-jackson-sustainability-fund/index.html\n",
      "JPMorgan will deploy $2.5T to fight climate crisis -- /2021/04/15/business/jpmorgan-climate-crisis-inequality/index.html\n",
      "Mastercard launches carbon calculator -- /2021/04/12/business/mastercard-carbon-calculator/index.html\n",
      "Starbucks' experimental new cup costs extra, but it's worth it -- /2021/04/06/business/starbucks-borrow-cup-program/index.html\n",
      "Uber expects employees to spend at least three days a week at the office -- /2021/04/14/tech/uber-office-return-employees/index.html\n",
      "One of WFH's biggest losers: Cybersecurity -- /2021/04/06/tech/cybersecurity-risks-mobile-devices-report/index.html\n",
      "Some workers can't wait to get back to the office  -- /2021/04/13/success/workers-back-to-the-office/index.html\n",
      "How remote work changed these people's lives -- /2021/03/15/success/remote-work-changed-lives-pandemic/index.html\n",
      "Silicon Valley is starting to bring workers back to the office -- /2021/03/31/tech/silicon-valley-office-return-uber-facebook/index.html\n",
      "Why we are going to Mars -- /videos/business/2021/04/07/mars-exploration-explainer-lon-orig.cnn-business\n",
      "Pet owners pitch their pups to be dog brew's 'Chief Tasting Officer' -- /videos/business/2021/04/15/busch-dog-beer-taster-moos-pkg-vpx.cnn\n",
      "Scientists turned spiderwebs into music and it sounds like a nightmare -- /videos/business/2021/04/14/mit-spiderweb-music-scn.cnn\n",
      "Watch this robot deliver a Domino's pizza -- /videos/business/2021/04/12/dominos-pizza-delivery-robot-nuro-gr-orig.cnn\n",
      "Teachers under pandemic stress are quitting: I didn't feel safe -- /videos/business/2021/04/13/teachers-pandemic-quitting.cnnbusiness\n",
      "Calculate your new refi payment in minutes. See if you can save -- https://ck.lendingtree.com/?a=342&c=2658&p=r&s1=moneyhp&mtaid=626CF&ctype=money-hp&cmethod=refiform&rcode=10005&ccreative=calcminsave_bluedoorplants&placement_name=money-hp&ad_headline=calcminsave&ad_image=bluedoorplants\n",
      "Refinance rates at 2.06% APR (15yr). Calculate your rate now -- https://ck.lendingtree.com/?a=342&c=2658&p=r&s1=moneyhp&mtaid=626CF&ctype=money-hp&cmethod=refiform&rcode=10005&ccreative=refiratesat206calculatenow_bluedoorplants&placement_name=money-hp&ad_headline=refiratesat206calculatenow&ad_image=bluedoorplants\n",
      "Can you refinance with $0 out of pocket? -- https://ck.lendingtree.com/?a=342&c=2658&p=r&s1=moneyhp&mtaid=626CF&ctype=money-hp&cmethod=refiform&rcode=10005&ccreative=canyou0pocket_bluedoorplants&placement_name=money-hp&ad_headline=canyou0pocket&ad_image=bluedoorplants\n",
      "Don't Overpay on Your Mortgage - Compare Offers & Save -- https://ck.lendingtree.com/?a=342&c=2658&p=r&s1=moneyhp&mtaid=626CF&ctype=money-hp&cmethod=refiform&rcode=10005&ccreative=overpaymortoffers_bluedoorplants&placement_name=money-hp&ad_headline=overpaymortoffers&ad_image=bluedoorplants\n",
      "6 cards charging 0% interest until 2022 -- https://www.comparecards.com/guide/pay-0-interest-2022?esourceid=6422486&utm_source=cnn&utm_medium=native&pla=cnn.com&bdst=rv&acqs=prospecting&utm_campaign=cnnbizhomepage&grp=pay-0-2022-hp&tar=cnnbizhomepage&utm_content=6+cards+charging+0+interest+until+2022&adt=blackcardblacksuit&mtaid=8631C&ad_group_name=pay-0-2022-hp&ad_position=1&campaign_name=cnnbizhomepage_pay-0-2022-hp&placement_name=cnnbizhomepage&ad_headline=6+cards+charging+0+interest+until+2022&ad_image_name=blackcardblacksuit\n",
      "7 spectacular cards for those with excellent credit -- https://www.comparecards.com/guide/top-credit-cards-for-those-with-excellent-credit?esourceid=6366296&utm_source=cnn&utm_medium=native&pla=cnn.com&bdst=rv&acqs=prospecting&utm_campaign=cnnbizhomepage&grp=excellent-credit&tar=cnnbizhomepage&utm_content=7+spectacular+cards+for+those+with+excellent+credit&adt=blackcardblacksuit&mtaid=8631C&ad_group_name=excellent-credit&ad_position=2&campaign_name=cnnbizhomepage_excellent-credit&placement_name=cnnbizhomepage&ad_headline=7+spectacular+cards+for+those+with+excellent+credit&ad_image_name=blackcardblacksuit\n",
      "Conquer your debt with one of these cards -- https://www.comparecards.com/guide/best-balance-transfer-credit-cards?esourceid=6366356&utm_source=cnn&utm_medium=native&pla=cnn.com&bdst=rv&acqs=prospecting&utm_campaign=cnnbizhomepage&grp=best-balance-transfer&tar=cnnbizhomepage&utm_content=conquer+your+debt+with+one+of+these+cards&adt=blackcardblacksuit&mtaid=8631C&ad_group_name=best-balance-transfer&ad_position=3&campaign_name=cnnbizhomepage_best-balance-transfer&placement_name=cnnbizhomepage&ad_headline=conquer+your+debt+with+one+of+these+cards&ad_image_name=blackcardblacksuit\n",
      "Pay 0% interest until 2022 with a better card -- https://www.comparecards.com/guide/pay-0-interest-2022?esourceid=6422486&utm_source=cnn&utm_medium=native&pla=cnn.com&bdst=rv&acqs=prospecting&utm_campaign=cnnbizhomepage&grp=pay-0-2022-hp&tar=cnnbizhomepage&utm_content=pay+o+interest+until+2022+with+a+better+card&adt=blackcardblacksuit&mtaid=8631C&ad_group_name=pay-0-2022-hp&ad_position=4&campaign_name=cnnbizhomepage_pay-0-2022-hp&placement_name=cnnbizhomepage&ad_headline=pay+o+interest+until+2022+with+a+better+card&ad_image_name=blackcardblacksuit\n",
      "Our 10 Best Stocks for 2021 -- https://www.fool.com/mms/mark/a-sa-top-2021?utm_source=cnnmoney&utm_medium=contentmarketing&utm_campaign=top2021-10stocks-feb2021&paid=9519&waid=9519&aid=9519&psource=esacnnwdg0210067&source=esacnnwdg0210067&wsource=esacnnwdg0210067\n",
      "Motley Fool's \"millionaire-maker\" stock pick -- https://www.fool.com/mms/mark/advert-millionaire-maker?utm_source=cnnmoney&utm_medium=contentmarketing&utm_campaign=sar-millionairemaker-dec2020&paid=9214&waid=9214&aid=9214&psource=esacnnwdg0210065&source=esacnnwdg0210065&wsource=esacnnwdg0210065\n",
      "Where should you invest $1,000 right now? -- https://www.fool.com/mms/mark/all-in-advert?utm_source=cnnmoney&utm_medium=contentmarketing&utm_campaign=sar-allinalert-dec2020&paid=9223&waid=9223&aid=9223&psource=esacnnwdg0210063&source=esacnnwdg0210063&wsource=esacnnwdg0210063\n",
      "Another Amazon? This stock may have similar growth -- https://www.fool.com/mms/mark/sa-earlybird?utm_source=cnnmoney&utm_medium=contentmarketing&utm_campaign=sar-earlybird-oct2020&paid=8969&waid=8969&aid=8969&psource=esacnnwdg0210062&source=esacnnwdg0210062&wsource=esacnnwdg0210062\n",
      "3 Ways To Build Your Wealth in 2021 -- https://products.gobankingrates.com/r/e26ecedc0f19a90c32b0b1b381f6616a?subid=h1-holiday-cash\n",
      "How to Retire Like a Millionaire -- https://products.gobankingrates.com/r/603ab0db22b8eabfad559b06abb9a2fe?subid=h2-boa-limited\n",
      "Today's Trending Offers! -- https://products.gobankingrates.com/r/57e3924451c6648f63f462987570ad87?subid=h3-checking-offers\n",
      "Tips To Talk To Your Significant Other About Money -- https://products.gobankingrates.com/r/69160ddf097b8a5fdbb48ba504dc6f48?subid=h4-protect\n",
      "Avoid these 7 mistakes everyone makes hiring financial advisors -- https://article.smartasset.com/financial-advisor-mistakes-18/?utm_source=cnn70&utm_campaign=cnnbusinesshp__falc_content_contentbin70&utm_content=7mistakes\n",
      "This startup is changing how people retire -- https://article.smartasset.com/smartasset-28-million-v2/?utm_source=cnn70&utm_medium=cpc&utm_campaign=cnnbusinesshp__falc_content_contentbin70&utm_content=disrupt\n",
      "7 secrets everyone needs to know about financial advisors -- https://article.smartasset.com/financial-advisor-secrets/?utm_source=cnn70&utm_campaign=cnnbusinesshp__falc_content_contentbin70&utm_content=fasecrets\n",
      "Avoid these 5 retirement mistakes at all costs -- https://article.smartasset.com/retirement-planning-mistakes/?utm_source=cnn70&utm_campaign=cnnbusinesshp__falc_content_contentbin70&utm_content=5retirementmistakes\n"
     ]
    }
   ],
   "source": [
    "for news in bsobj.findAll('h3'):\n",
    "    tempURL = news.a.get('href')\n",
    "    if tempURL.startswith('/2021'):\n",
    "        articleURLs += ['https://www.cnn.com' + news.a.get('href')]"
   ]
  },
  {
   "cell_type": "code",
   "execution_count": 92,
   "id": "ranging-recipe",
   "metadata": {},
   "outputs": [
    {
     "data": {
      "text/plain": [
       "'https://article.smartasset.com/retirement-planning-mistakes/?utm_source=cnn70&utm_campaign=cnnbusinesshp__falc_content_contentbin70&utm_content=5retirementmistakes'"
      ]
     },
     "execution_count": 92,
     "metadata": {},
     "output_type": "execute_result"
    }
   ],
   "source": [
    "news.a.get('href')"
   ]
  },
  {
   "cell_type": "code",
   "execution_count": 49,
   "id": "broadband-police",
   "metadata": {},
   "outputs": [],
   "source": [
    "classes = ['cd cd--card cd--article cd--idx-' + str(i) + ' cd--extra-small cd--has-siblings cd--media__image' for i in range(200)]\n",
    "for cl in classes:\n",
    "    for news in bsobj.findAll('article',{'class':cl}):\n",
    "        print(news.text.strip())"
   ]
  },
  {
   "cell_type": "code",
   "execution_count": null,
   "id": "central-samoa",
   "metadata": {},
   "outputs": [],
   "source": [
    "."
   ]
  },
  {
   "cell_type": "code",
   "execution_count": null,
   "id": "elementary-consolidation",
   "metadata": {},
   "outputs": [],
   "source": [
    "cd cd--card cd--article cd--idx-1 cd--extra-small cd--has-siblings cd--media__image"
   ]
  }
 ],
 "metadata": {
  "kernelspec": {
   "display_name": "Python 3",
   "language": "python",
   "name": "python3"
  },
  "language_info": {
   "codemirror_mode": {
    "name": "ipython",
    "version": 3
   },
   "file_extension": ".py",
   "mimetype": "text/x-python",
   "name": "python",
   "nbconvert_exporter": "python",
   "pygments_lexer": "ipython3",
   "version": "3.8.5"
  }
 },
 "nbformat": 4,
 "nbformat_minor": 5
}
